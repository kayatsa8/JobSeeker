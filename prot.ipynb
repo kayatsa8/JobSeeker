{
 "cells": [
  {
   "cell_type": "code",
   "outputs": [],
   "source": [
    "from selenium import webdriver\n",
    "from selenium.webdriver.common.by import By"
   ],
   "metadata": {
    "collapsed": false,
    "ExecuteTime": {
     "end_time": "2024-10-20T17:03:11.891420Z",
     "start_time": "2024-10-20T17:03:11.876428Z"
    }
   },
   "id": "a24420633a5f0886",
   "execution_count": 18
  },
  {
   "cell_type": "code",
   "outputs": [],
   "source": [
    "# TODO: delete\n",
    "\n",
    "username = \"\"\n",
    "password = \"\""
   ],
   "metadata": {
    "collapsed": false,
    "ExecuteTime": {
     "end_time": "2024-10-20T17:03:14.148682Z",
     "start_time": "2024-10-20T17:03:14.132682Z"
    }
   },
   "id": "4b2ced45c6b45e98",
   "execution_count": 19
  },
  {
   "cell_type": "code",
   "outputs": [],
   "source": [
    "driver = webdriver.Chrome()\n",
    "driver.maximize_window()"
   ],
   "metadata": {
    "collapsed": false,
    "ExecuteTime": {
     "end_time": "2024-10-20T17:03:19.363712Z",
     "start_time": "2024-10-20T17:03:17.349194Z"
    }
   },
   "id": "258af25f5769f4ed",
   "execution_count": 20
  },
  {
   "cell_type": "code",
   "outputs": [],
   "source": [
    "driver.get(\"https://www.facebook.com/\")"
   ],
   "metadata": {
    "collapsed": false,
    "ExecuteTime": {
     "end_time": "2024-10-20T17:03:25.939617Z",
     "start_time": "2024-10-20T17:03:24.860639Z"
    }
   },
   "id": "51dcce5db54eda20",
   "execution_count": 21
  },
  {
   "cell_type": "code",
   "outputs": [],
   "source": [
    "username_input = driver.find_element(By.XPATH, \"//*[@id='email']\")\n",
    "username_input.clear()\n",
    "username_input.send_keys(username)\n",
    "\n",
    "password_input = driver.find_element(By.XPATH, \"//*[@id='pass']\")\n",
    "password_input.clear()\n",
    "password_input.send_keys(password)"
   ],
   "metadata": {
    "collapsed": false,
    "ExecuteTime": {
     "end_time": "2024-10-20T17:03:30.218386Z",
     "start_time": "2024-10-20T17:03:29.734068Z"
    }
   },
   "id": "95d639fc2f6c8611",
   "execution_count": 22
  },
  {
   "cell_type": "code",
   "outputs": [],
   "source": [
    "loginButton = driver.find_element(By.XPATH, \"//div[2]/button[1]\")\n",
    "loginButton.click()"
   ],
   "metadata": {
    "collapsed": false,
    "ExecuteTime": {
     "end_time": "2024-10-20T17:03:37.426512Z",
     "start_time": "2024-10-20T17:03:37.282465Z"
    }
   },
   "id": "6606870d85e8cc38",
   "execution_count": 23
  },
  {
   "cell_type": "code",
   "outputs": [],
   "source": [],
   "metadata": {
    "collapsed": false
   },
   "id": "7c86615571c6c85e"
  }
 ],
 "metadata": {
  "kernelspec": {
   "display_name": "Python 3",
   "language": "python",
   "name": "python3"
  },
  "language_info": {
   "codemirror_mode": {
    "name": "ipython",
    "version": 2
   },
   "file_extension": ".py",
   "mimetype": "text/x-python",
   "name": "python",
   "nbconvert_exporter": "python",
   "pygments_lexer": "ipython2",
   "version": "2.7.6"
  }
 },
 "nbformat": 4,
 "nbformat_minor": 5
}
