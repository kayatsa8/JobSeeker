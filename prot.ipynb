{
 "cells": [
  {
   "cell_type": "code",
   "outputs": [],
   "source": [
    "from selenium import webdriver\n",
    "from selenium.webdriver.common.by import By\n",
    "from selenium.webdriver import Keys, ActionChains"
   ],
   "metadata": {
    "collapsed": false
   },
   "id": "a24420633a5f0886",
   "execution_count": null
  },
  {
   "cell_type": "code",
   "outputs": [],
   "source": [
    "# TODO: delete\n",
    "\n",
    "username = \"\"\n",
    "password = \"\""
   ],
   "metadata": {
    "collapsed": false
   },
   "id": "4b2ced45c6b45e98",
   "execution_count": null
  },
  {
   "cell_type": "code",
   "outputs": [],
   "source": [
    "driver = webdriver.Chrome()\n",
    "driver.maximize_window()"
   ],
   "metadata": {
    "collapsed": false
   },
   "id": "258af25f5769f4ed",
   "execution_count": null
  },
  {
   "cell_type": "code",
   "outputs": [],
   "source": [
    "driver.get(\"https://www.facebook.com/\")"
   ],
   "metadata": {
    "collapsed": false
   },
   "id": "51dcce5db54eda20",
   "execution_count": null
  },
  {
   "cell_type": "code",
   "outputs": [],
   "source": [
    "username_input = driver.find_element(By.XPATH, \"//*[@id='email']\")\n",
    "username_input.clear()\n",
    "username_input.send_keys(username)\n",
    "\n",
    "password_input = driver.find_element(By.XPATH, \"//*[@id='pass']\")\n",
    "password_input.clear()\n",
    "password_input.send_keys(password)"
   ],
   "metadata": {
    "collapsed": false
   },
   "id": "95d639fc2f6c8611",
   "execution_count": null
  },
  {
   "cell_type": "code",
   "outputs": [],
   "source": [
    "loginButton = driver.find_element(By.XPATH, \"//div[2]/button[1]\")\n",
    "loginButton.click()"
   ],
   "metadata": {
    "collapsed": false
   },
   "id": "6606870d85e8cc38",
   "execution_count": null
  },
  {
   "cell_type": "code",
   "outputs": [],
   "source": [
    "ActionChains(driver)\\\n",
    "        .key_down(Keys.ESCAPE)\\\n",
    "        .key_up(Keys.ESCAPE)\\\n",
    "        .perform()"
   ],
   "metadata": {
    "collapsed": false
   },
   "id": "7c86615571c6c85e",
   "execution_count": null
  },
  {
   "cell_type": "code",
   "outputs": [],
   "source": [
    "import time\n",
    "\n",
    "driver.get('https://www.facebook.com/groups')\n",
    "\n",
    "time.sleep(3)\n",
    "ActionChains(driver)\\\n",
    "        .key_down(Keys.ESCAPE)\\\n",
    "        .key_up(Keys.ESCAPE)\\\n",
    "        .perform()\n",
    "\n",
    "# group_links = driver.find_elements(By.XPATH, \"//a[contains(@href, '/groups/')]\")\n",
    "# group_urls = [link.get_attribute('href') for link in group_links]"
   ],
   "metadata": {
    "collapsed": false
   },
   "id": "1a5c2bf842860206",
   "execution_count": null
  },
  {
   "cell_type": "code",
   "outputs": [],
   "source": [
    "driver.find_element(By.XPATH, \"//div[2]/div[1]/a[1]/span[1]/span[1]\").click()"
   ],
   "metadata": {
    "collapsed": false
   },
   "id": "b82d56fcf4a16dc7",
   "execution_count": null
  },
  {
   "cell_type": "code",
   "outputs": [],
   "source": [
    "groupComponents = driver.find_elements(By.XPATH,                           \"//div[@role='listitem' and .//a[@href and @aria-label='הצגת הקבוצה']]\")\n",
    "\n",
    "print(len(groupComponents))"
   ],
   "metadata": {
    "collapsed": false
   },
   "id": "334050ea60a1410d",
   "execution_count": null
  },
  {
   "cell_type": "code",
   "outputs": [],
   "source": [
    "group_urls = []\n",
    "group_names = []\n",
    "\n",
    "for group in groupComponents:\n",
    "    # Extract the group URL\n",
    "    group_url = group.find_element(By.XPATH, \".//a[@href]\").get_attribute('href')\n",
    "    \n",
    "    group_urls.append(group_url)\n",
    "    \n",
    "    # Extract the group name (if available, usually in a span or div tag)\n",
    "    try:\n",
    "        group_name = group.find_element(By.XPATH, \".//span\").text  # Adjust the XPath to find the group name within the component\n",
    "    except:\n",
    "        group_name = \"Unknown Group Name\"\n",
    "        \n",
    "    group_names.append(group_name)\n",
    "    \n",
    "    # Print out the information\n",
    "    print(f\"Group Name: {group_name}\")\n",
    "    print(f\"Group URL: {group_url}\")\n",
    "    print('-' * 50)"
   ],
   "metadata": {
    "collapsed": false
   },
   "id": "1fcbe4f406a7ea31",
   "execution_count": null
  },
  {
   "cell_type": "code",
   "outputs": [],
   "source": [
    "for group_name, group_url in zip(group_names, group_urls):\n",
    "    print(f'Visiting group: {group_name}')\n",
    "    driver.get(group_url)\n",
    "    time.sleep(5)  # Adjust sleep time as needed depending on your needs\n",
    "    # Here, you can add code to interact with the group page (e.g., scrape posts, interact, etc.)\n"
   ],
   "metadata": {
    "collapsed": false
   },
   "id": "8b709299fd325986",
   "execution_count": null
  },
  {
   "cell_type": "code",
   "outputs": [],
   "source": [
    "driver.quit()"
   ],
   "metadata": {
    "collapsed": false
   },
   "id": "760208723e9b54c1",
   "execution_count": null
  },
  {
   "cell_type": "code",
   "outputs": [],
   "source": [],
   "metadata": {
    "collapsed": false
   },
   "id": "430b5665edea5e3"
  }
 ],
 "metadata": {
  "kernelspec": {
   "display_name": "Python 3",
   "language": "python",
   "name": "python3"
  },
  "language_info": {
   "codemirror_mode": {
    "name": "ipython",
    "version": 2
   },
   "file_extension": ".py",
   "mimetype": "text/x-python",
   "name": "python",
   "nbconvert_exporter": "python",
   "pygments_lexer": "ipython2",
   "version": "2.7.6"
  }
 },
 "nbformat": 4,
 "nbformat_minor": 5
}
